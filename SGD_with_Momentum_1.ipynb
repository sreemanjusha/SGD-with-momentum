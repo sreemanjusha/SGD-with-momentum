{
  "nbformat": 4,
  "nbformat_minor": 0,
  "metadata": {
    "colab": {
      "name": "SGD with Momentum_1.ipynb",
      "provenance": [],
      "include_colab_link": true
    },
    "kernelspec": {
      "name": "python3",
      "display_name": "Python 3"
    }
  },
  "cells": [
    {
      "cell_type": "markdown",
      "metadata": {
        "id": "view-in-github",
        "colab_type": "text"
      },
      "source": [
        "<a href=\"https://colab.research.google.com/github/sreemanjusha/SGD-with-momentum/blob/main/SGD_with_Momentum_1.ipynb\" target=\"_parent\"><img src=\"https://colab.research.google.com/assets/colab-badge.svg\" alt=\"Open In Colab\"/></a>"
      ]
    },
    {
      "cell_type": "code",
      "metadata": {
        "id": "I_mkIlIjHRUz"
      },
      "source": [
        "import numpy as np\n",
        "import pandas as pd\n",
        "from sklearn.linear_model import Perceptron\n",
        "\n",
        "\n",
        "class SGD():\n",
        "    def __init__(self,epochs,eta,beta):\n",
        "        self.n_iter = epochs\n",
        "        self.eta = eta\n",
        "        self.beta=beta #beta = decay\n",
        "        \n",
        "    def fit(self,F_train,L_train):\n",
        "        #F_train shape : (n,m)\n",
        "        #L_train shape : (n,)\n",
        "        #t\n",
        "        self.w_ = np.zeros((F_train.shape[1]+1),)\n",
        "        self.errors_ = np.zeros((self.n_iter,))\n",
        "        self.moment=np.zeros((F_train.shape[1]+1),)\n",
        "        #weight vector shape: (m+1,)\n",
        "        #self.w_[0] = bias\n",
        "        for epoch in np.arange(1,self.n_iter+1):\n",
        "            errors_for_this_epoch = 0\n",
        "            for fi,li in zip(F_train,L_train):\n",
        "                #fi shape: (m,)\n",
        "                #yi shape: (1)\n",
        "                li_pred = self.predict(fi)\n",
        "                self.moment[1:]=self.moment*self.beta+(1-self.beta)*(li-li_pred)*fi\n",
        "                self.moment_unbias[1:]=self.moment/(1-self.beta**epoch)\n",
        "                self.w_[1:]+=self.eta*self.moment_unbias[1:]\n",
        "                if li!=li_pred:\n",
        "                    errors_for_this_epoch+=1\n",
        "            self.errors_[epoch-1]=(errors_for_this_epoch/F_train.shape[0])*100\n",
        "                \n",
        "                \n",
        "    \n",
        "    def predict(self,x):\n",
        "        #x : (m,n)\n",
        "        return np.where(self.net_input(x)>0,1,0)\n",
        "        #(m,)\n",
        "    \n",
        "    def net_input(self,x):\n",
        "        #w0+wT*x\n",
        "        return np.dot(x,self.w_[1:])+self.w_[0]"
      ],
      "execution_count": null,
      "outputs": []
    },
    {
      "cell_type": "code",
      "metadata": {
        "id": "5u6iMhoLJpYl"
      },
      "source": [
        ""
      ],
      "execution_count": null,
      "outputs": []
    }
  ]
}